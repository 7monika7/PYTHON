{
  "nbformat": 4,
  "nbformat_minor": 0,
  "metadata": {
    "colab": {
      "provenance": []
    },
    "kernelspec": {
      "name": "python3",
      "display_name": "Python 3"
    },
    "language_info": {
      "name": "python"
    }
  },
  "cells": [
    {
      "cell_type": "code",
      "execution_count": 3,
      "metadata": {
        "id": "eMVctA3Qaq62"
      },
      "outputs": [],
      "source": [
        "def greet():\n",
        "    print(\"Hello, World!\")\n"
      ]
    },
    {
      "cell_type": "code",
      "source": [],
      "metadata": {
        "id": "6Wnt0t4YfINC"
      },
      "execution_count": null,
      "outputs": []
    }
  ]
}