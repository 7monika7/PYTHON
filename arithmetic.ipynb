{
  "nbformat": 4,
  "nbformat_minor": 0,
  "metadata": {
    "colab": {
      "provenance": []
    },
    "kernelspec": {
      "name": "python3",
      "display_name": "Python 3"
    },
    "language_info": {
      "name": "python"
    }
  },
  "cells": [
    {
      "cell_type": "code",
      "execution_count": null,
      "metadata": {
        "id": "CYKJZhssg8l-"
      },
      "outputs": [],
      "source": [
        "#Arithmetic operations\n",
        "num1=int(input(\"Enter first number:\"))\n",
        "num2=int(input(\"Enter second number:\"))\n",
        "print(\"the sum : \",num1+num2)\n",
        "print(\"the multiplication : \",num1*num2)\n",
        "print(\"the power : \",num1**num2)\n",
        "print(\"the subtraction : \",num1-num2)\n",
        "print(\"the division : \",num1/num2)\n",
        "print(\"the division : \",num1//num2)\n",
        "print(\"the division : \",num1%num2)"
      ]
    }
  ]
}