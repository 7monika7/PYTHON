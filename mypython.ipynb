def greet():
    print("Hello, world!")  # Indented inside the function

greet()
