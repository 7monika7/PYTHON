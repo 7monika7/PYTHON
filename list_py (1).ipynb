{
  "nbformat": 4,
  "nbformat_minor": 0,
  "metadata": {
    "colab": {
      "provenance": []
    },
    "kernelspec": {
      "name": "python3",
      "display_name": "Python 3"
    },
    "language_info": {
      "name": "python"
    }
  },
  "cells": [
    {
      "cell_type": "code",
      "source": [
        "books=[\"power\",\"ego\",\"a man called ove\",\"lean in\"]\n",
        "cost=[200,120,129,300]\n",
        "books"
      ],
      "metadata": {
        "colab": {
          "base_uri": "https://localhost:8080/"
        },
        "id": "v3b0Kgms6gUN",
        "outputId": "bbb681ee-4152-4c62-dcda-ce7e8a84ce96"
      },
      "execution_count": 11,
      "outputs": [
        {
          "output_type": "execute_result",
          "data": {
            "text/plain": [
              "['power', 'ego', 'a man called ove', 'lean in']"
            ]
          },
          "metadata": {},
          "execution_count": 11
        }
      ]
    },
    {
      "cell_type": "code",
      "source": [
        "cost"
      ],
      "metadata": {
        "colab": {
          "base_uri": "https://localhost:8080/"
        },
        "id": "bGgHlWMy7kCh",
        "outputId": "0751b3d1-f590-49a6-d9e7-0888c92b7710"
      },
      "execution_count": 12,
      "outputs": [
        {
          "output_type": "execute_result",
          "data": {
            "text/plain": [
              "[200, 120, 129, 300]"
            ]
          },
          "metadata": {},
          "execution_count": 12
        }
      ]
    },
    {
      "cell_type": "markdown",
      "source": [
        "APPENDING OPERATION"
      ],
      "metadata": {
        "id": "ktql_Ceb7v0R"
      }
    },
    {
      "cell_type": "code",
      "source": [
        "books.append(\"invisible women\")\n",
        "cost.append(500)"
      ],
      "metadata": {
        "id": "yHZGjjE771y_"
      },
      "execution_count": 13,
      "outputs": []
    },
    {
      "cell_type": "code",
      "source": [
        "books"
      ],
      "metadata": {
        "colab": {
          "base_uri": "https://localhost:8080/"
        },
        "id": "0nFS0crX9CvO",
        "outputId": "b67e2a16-ef89-4403-d518-1d04109215d3"
      },
      "execution_count": 14,
      "outputs": [
        {
          "output_type": "execute_result",
          "data": {
            "text/plain": [
              "['power', 'ego', 'a man called ove', 'lean in', 'invisible women']"
            ]
          },
          "metadata": {},
          "execution_count": 14
        }
      ]
    },
    {
      "cell_type": "code",
      "source": [
        "cost"
      ],
      "metadata": {
        "colab": {
          "base_uri": "https://localhost:8080/"
        },
        "id": "mkcyZHf79FfM",
        "outputId": "792e2e61-c9ec-4ded-c017-8f31a9108c6a"
      },
      "execution_count": 15,
      "outputs": [
        {
          "output_type": "execute_result",
          "data": {
            "text/plain": [
              "[200, 120, 129, 300, 500]"
            ]
          },
          "metadata": {},
          "execution_count": 15
        }
      ]
    },
    {
      "cell_type": "markdown",
      "source": [
        "INSERTING OPERATION"
      ],
      "metadata": {
        "id": "hmvn89Zg9KyY"
      }
    },
    {
      "cell_type": "code",
      "source": [
        "books.insert(3,\"untamed\")\n",
        "cost.insert(3,350)"
      ],
      "metadata": {
        "id": "VxYCdLLg-Exe"
      },
      "execution_count": 20,
      "outputs": []
    },
    {
      "cell_type": "code",
      "source": [
        "books"
      ],
      "metadata": {
        "colab": {
          "base_uri": "https://localhost:8080/"
        },
        "id": "TsicwaTN-NwN",
        "outputId": "4d8bf355-c76c-485a-d442-08962a765528"
      },
      "execution_count": 21,
      "outputs": [
        {
          "output_type": "execute_result",
          "data": {
            "text/plain": [
              "['power',\n",
              " 'ego',\n",
              " 'a man called ove',\n",
              " 'untamed',\n",
              " 'untamed',\n",
              " 'untamed',\n",
              " 'lean in',\n",
              " 'invisible women']"
            ]
          },
          "metadata": {},
          "execution_count": 21
        }
      ]
    },
    {
      "cell_type": "code",
      "source": [
        "cost"
      ],
      "metadata": {
        "colab": {
          "base_uri": "https://localhost:8080/"
        },
        "id": "FRPpb6HI-SDb",
        "outputId": "1e11c7bf-34c3-47ca-f6ad-a210f352baaf"
      },
      "execution_count": 22,
      "outputs": [
        {
          "output_type": "execute_result",
          "data": {
            "text/plain": [
              "[200, 120, 129, 350, 350, 350, 300, 500]"
            ]
          },
          "metadata": {},
          "execution_count": 22
        }
      ]
    },
    {
      "cell_type": "markdown",
      "source": [
        "REMOVE OPERATION"
      ],
      "metadata": {
        "id": "w-yRtz1Q-gyC"
      }
    },
    {
      "cell_type": "code",
      "source": [
        "books.remove(\"untamed\")\n",
        "cost.remove(350)"
      ],
      "metadata": {
        "id": "OqCuFuVS-kiA"
      },
      "execution_count": 23,
      "outputs": []
    },
    {
      "cell_type": "code",
      "source": [
        "books"
      ],
      "metadata": {
        "colab": {
          "base_uri": "https://localhost:8080/"
        },
        "id": "mhEf86XF_HNP",
        "outputId": "4387b3d2-dfa6-47ba-f7e8-5f6dd8e51b5d"
      },
      "execution_count": 24,
      "outputs": [
        {
          "output_type": "execute_result",
          "data": {
            "text/plain": [
              "['power',\n",
              " 'ego',\n",
              " 'a man called ove',\n",
              " 'untamed',\n",
              " 'untamed',\n",
              " 'lean in',\n",
              " 'invisible women']"
            ]
          },
          "metadata": {},
          "execution_count": 24
        }
      ]
    },
    {
      "cell_type": "code",
      "source": [
        "cost"
      ],
      "metadata": {
        "colab": {
          "base_uri": "https://localhost:8080/"
        },
        "id": "kLpqrpsE_OjM",
        "outputId": "36b7edc9-c07e-4694-a766-301c923f6d53"
      },
      "execution_count": 25,
      "outputs": [
        {
          "output_type": "execute_result",
          "data": {
            "text/plain": [
              "[200, 120, 129, 350, 350, 300, 500]"
            ]
          },
          "metadata": {},
          "execution_count": 25
        }
      ]
    },
    {
      "cell_type": "code",
      "source": [
        "books.remove(\"untamed\")\n",
        "cost.remove(350)"
      ],
      "metadata": {
        "id": "XOlIAOLF_XN1"
      },
      "execution_count": 26,
      "outputs": []
    },
    {
      "cell_type": "code",
      "source": [
        "books"
      ],
      "metadata": {
        "colab": {
          "base_uri": "https://localhost:8080/"
        },
        "id": "IRuvy9My_Zi9",
        "outputId": "fef7a1a6-192d-4db8-d4d8-e095436e0b1b"
      },
      "execution_count": 27,
      "outputs": [
        {
          "output_type": "execute_result",
          "data": {
            "text/plain": [
              "['power', 'ego', 'a man called ove', 'untamed', 'lean in', 'invisible women']"
            ]
          },
          "metadata": {},
          "execution_count": 27
        }
      ]
    },
    {
      "cell_type": "code",
      "source": [
        "cost"
      ],
      "metadata": {
        "colab": {
          "base_uri": "https://localhost:8080/"
        },
        "id": "z6VSbidU_dF_",
        "outputId": "58a76087-0cef-4abd-aca9-fa40480231da"
      },
      "execution_count": 28,
      "outputs": [
        {
          "output_type": "execute_result",
          "data": {
            "text/plain": [
              "[200, 120, 129, 350, 300, 500]"
            ]
          },
          "metadata": {},
          "execution_count": 28
        }
      ]
    },
    {
      "cell_type": "markdown",
      "source": [
        "POP OPERATION"
      ],
      "metadata": {
        "id": "gWaPXSkuAFLj"
      }
    },
    {
      "cell_type": "code",
      "source": [
        "books.pop(3)\n",
        "cost.pop(3)"
      ],
      "metadata": {
        "colab": {
          "base_uri": "https://localhost:8080/"
        },
        "id": "AJk_Oxk1ANJJ",
        "outputId": "2b0b837c-1421-4cc5-d0f7-89925f78df87"
      },
      "execution_count": 30,
      "outputs": [
        {
          "output_type": "execute_result",
          "data": {
            "text/plain": [
              "300"
            ]
          },
          "metadata": {},
          "execution_count": 30
        }
      ]
    },
    {
      "cell_type": "code",
      "source": [
        "books"
      ],
      "metadata": {
        "colab": {
          "base_uri": "https://localhost:8080/"
        },
        "id": "Qc49vRdHAcua",
        "outputId": "21f8597d-ea7e-455e-a999-3a9a9fccafb8"
      },
      "execution_count": 31,
      "outputs": [
        {
          "output_type": "execute_result",
          "data": {
            "text/plain": [
              "['power', 'ego', 'a man called ove', 'invisible women']"
            ]
          },
          "metadata": {},
          "execution_count": 31
        }
      ]
    },
    {
      "cell_type": "code",
      "source": [
        "cost"
      ],
      "metadata": {
        "colab": {
          "base_uri": "https://localhost:8080/"
        },
        "id": "0EON4g7zAsXL",
        "outputId": "67d47cac-7895-4590-c78c-c6e896c88e08"
      },
      "execution_count": 32,
      "outputs": [
        {
          "output_type": "execute_result",
          "data": {
            "text/plain": [
              "[200, 120, 129, 500]"
            ]
          },
          "metadata": {},
          "execution_count": 32
        }
      ]
    },
    {
      "cell_type": "markdown",
      "source": [
        "OTHER OPERATIONS"
      ],
      "metadata": {
        "id": "fgWmJwLsAy3v"
      }
    },
    {
      "cell_type": "markdown",
      "source": [
        "                  LENGTH OF THE LIST\n"
      ],
      "metadata": {
        "id": "hkALsKC7A2Xw"
      }
    },
    {
      "cell_type": "code",
      "source": [
        "len(books)"
      ],
      "metadata": {
        "colab": {
          "base_uri": "https://localhost:8080/"
        },
        "id": "c0suDrFbBG6x",
        "outputId": "aeeedd7b-801b-4afa-c672-e63226f85d00"
      },
      "execution_count": 33,
      "outputs": [
        {
          "output_type": "execute_result",
          "data": {
            "text/plain": [
              "4"
            ]
          },
          "metadata": {},
          "execution_count": 33
        }
      ]
    },
    {
      "cell_type": "code",
      "source": [
        "len(cost)"
      ],
      "metadata": {
        "colab": {
          "base_uri": "https://localhost:8080/"
        },
        "id": "RmcKRnbJBV1k",
        "outputId": "d2bb6a11-da29-4fab-8d0e-9d76842e3e7c"
      },
      "execution_count": 34,
      "outputs": [
        {
          "output_type": "execute_result",
          "data": {
            "text/plain": [
              "4"
            ]
          },
          "metadata": {},
          "execution_count": 34
        }
      ]
    },
    {
      "cell_type": "markdown",
      "source": [
        "SORTING THE LIST"
      ],
      "metadata": {
        "id": "UcBCQ-caBYT5"
      }
    },
    {
      "cell_type": "code",
      "source": [
        "books.sort()\n",
        "cost.sort()"
      ],
      "metadata": {
        "id": "4849BX-gBb1D"
      },
      "execution_count": 36,
      "outputs": []
    },
    {
      "cell_type": "code",
      "source": [
        "books"
      ],
      "metadata": {
        "colab": {
          "base_uri": "https://localhost:8080/"
        },
        "id": "6CwaJkVKCdyE",
        "outputId": "54711ae7-52d2-4cc3-b469-fa2ef96668c9"
      },
      "execution_count": 37,
      "outputs": [
        {
          "output_type": "execute_result",
          "data": {
            "text/plain": [
              "['a man called ove', 'ego', 'invisible women', 'power']"
            ]
          },
          "metadata": {},
          "execution_count": 37
        }
      ]
    },
    {
      "cell_type": "code",
      "source": [
        "cost"
      ],
      "metadata": {
        "colab": {
          "base_uri": "https://localhost:8080/"
        },
        "id": "q6-QoUHoChZP",
        "outputId": "997b36cc-0562-4eec-f59b-14047f6894bd"
      },
      "execution_count": 38,
      "outputs": [
        {
          "output_type": "execute_result",
          "data": {
            "text/plain": [
              "[120, 129, 200, 500]"
            ]
          },
          "metadata": {},
          "execution_count": 38
        }
      ]
    },
    {
      "cell_type": "markdown",
      "source": [
        "REVERSING THE LIST"
      ],
      "metadata": {
        "id": "BkkgfVSuClgL"
      }
    },
    {
      "cell_type": "code",
      "source": [
        " books.reverse()\n",
        " cost.reverse()"
      ],
      "metadata": {
        "id": "2rsKQxXfCscl"
      },
      "execution_count": 40,
      "outputs": []
    },
    {
      "cell_type": "code",
      "source": [
        "books"
      ],
      "metadata": {
        "colab": {
          "base_uri": "https://localhost:8080/"
        },
        "id": "oMYnXjsRHdqX",
        "outputId": "a58d723c-93dd-4e29-9c33-144df1089269"
      },
      "execution_count": 41,
      "outputs": [
        {
          "output_type": "execute_result",
          "data": {
            "text/plain": [
              "['power', 'invisible women', 'ego', 'a man called ove']"
            ]
          },
          "metadata": {},
          "execution_count": 41
        }
      ]
    },
    {
      "cell_type": "code",
      "source": [
        "cost"
      ],
      "metadata": {
        "colab": {
          "base_uri": "https://localhost:8080/"
        },
        "id": "wlPokLRaHg1w",
        "outputId": "fbedfda1-e3d4-4381-b705-337336f3ec50"
      },
      "execution_count": 42,
      "outputs": [
        {
          "output_type": "execute_result",
          "data": {
            "text/plain": [
              "[500, 200, 129, 120]"
            ]
          },
          "metadata": {},
          "execution_count": 42
        }
      ]
    }
  ]
}