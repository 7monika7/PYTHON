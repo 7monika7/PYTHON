{
  "nbformat": 4,
  "nbformat_minor": 0,
  "metadata": {
    "colab": {
      "provenance": []
    },
    "kernelspec": {
      "name": "python3",
      "display_name": "Python 3"
    },
    "language_info": {
      "name": "python"
    }
  },
  "cells": [
    {
      "cell_type": "markdown",
      "source": [
        "CREATING"
      ],
      "metadata": {
        "id": "9ZtXaTMUH5pB"
      }
    },
    {
      "cell_type": "code",
      "source": [
        "a=(1,2,3,4,5)"
      ],
      "metadata": {
        "id": "8C_uePUtH9hd"
      },
      "execution_count": 1,
      "outputs": []
    },
    {
      "cell_type": "markdown",
      "source": [
        "ACCESSING"
      ],
      "metadata": {
        "id": "4c8bag5cIFQv"
      }
    },
    {
      "cell_type": "code",
      "source": [
        "print(a[0])"
      ],
      "metadata": {
        "colab": {
          "base_uri": "https://localhost:8080/"
        },
        "id": "p63aqomSIeq3",
        "outputId": "81ff55b0-703c-483c-d954-5f9bc3fd5453"
      },
      "execution_count": 2,
      "outputs": [
        {
          "output_type": "stream",
          "name": "stdout",
          "text": [
            "1\n"
          ]
        }
      ]
    }
  ]
}